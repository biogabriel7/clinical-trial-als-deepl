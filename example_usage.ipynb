{
 "cells": [
  {
   "cell_type": "markdown",
   "metadata": {},
   "source": [
    "# ALS Clinical Trial Success Prediction - Example Usage\n",
    "\n",
    "This notebook demonstrates how to use the ALS trial success prediction model."
   ]
  },
  {
   "cell_type": "code",
   "execution_count": null,
   "metadata": {},
   "outputs": [],
   "source": [
    "import pandas as pd\n",
    "import numpy as np\n",
    "from als_trial_success_model import ALSTrialSuccessPredictor\n",
    "import matplotlib.pyplot as plt\n",
    "import seaborn as sns"
   ]
  },
  {
   "cell_type": "markdown",
   "metadata": {},
   "source": [
    "## 1. Load and Train Model"
   ]
  },
  {
   "cell_type": "code",
   "execution_count": null,
   "metadata": {},
   "outputs": [],
   "source": [
    "# Initialize predictor\n",
    "predictor = ALSTrialSuccessPredictor(random_state=42)\n",
    "\n",
    "# Load your data\n",
    "df = pd.read_csv('comprehensive_merged_trial_data.csv')\n",
    "target_col = 'reached_phase_3_plus'\n",
    "\n",
    "# Prepare features\n",
    "X, y = predictor.prepare_features(df, target_col)\n",
    "print(f\"Feature matrix shape: {X.shape}\")\n",
    "print(f\"Target distribution: {y.value_counts().to_dict()}\")"
   ]
  },
  {
   "cell_type": "code",
   "execution_count": null,
   "metadata": {},
   "outputs": [],
   "source": [
    "# Train model\n",
    "metrics = predictor.train(X, y)\n",
    "\n",
    "print(\"Model Performance:\")\n",
    "print(f\"ROC-AUC: {metrics['roc_auc']:.3f}\")\n",
    "print(f\"PR-AUC: {metrics['pr_auc']:.3f}\")\n",
    "print(f\"\\nOptimal Threshold: {predictor.optimal_threshold:.3f}\")\n",
    "print(f\"Recall: {metrics['optimal_recall']:.3f}\")\n",
    "print(f\"Precision: {metrics['optimal_precision']:.3f}\")"
   ]
  },
  {
   "cell_type": "markdown",
   "metadata": {},
   "source": [
    "## 2. Feature Importance Analysis"
   ]
  },
  {
   "cell_type": "code",
   "execution_count": null,
   "metadata": {},
   "outputs": [],
   "source": [
    "# Get top features\n",
    "importance_df = predictor.get_feature_importance(top_n=15)\n",
    "\n",
    "# Plot feature importance\n",
    "plt.figure(figsize=(10, 8))\n",
    "plt.barh(importance_df['Feature'], importance_df['Importance'], color='skyblue')\n",
    "plt.xlabel('Importance Score')\n",
    "plt.title('Top 15 Most Important Features for ALS Trial Success')\n",
    "plt.gca().invert_yaxis()\n",
    "plt.tight_layout()\n",
    "plt.show()"
   ]
  },
  {
   "cell_type": "markdown",
   "metadata": {},
   "source": [
    "## 3. Make Predictions on New Trials"
   ]
  },
  {
   "cell_type": "code",
   "execution_count": null,
   "metadata": {},
   "outputs": [],
   "source": [
    "# Example: Create a hypothetical trial\n",
    "new_trial = pd.DataFrame({\n",
    "    'Target Accrual': [150],\n",
    "    'Enrollment Duration (Mos.)': [18],\n",
    "    'Treatment Duration (Mos.)': [12],\n",
    "    'endpoint_survival': [1],\n",
    "    'endpoint_efficacy': [3],\n",
    "    'endpoint_safety': [2],\n",
    "    'sponsor_trial_count': [15],\n",
    "    'sponsor_is_major_pharma': [1],\n",
    "    'biomarker_total_uses': [2],\n",
    "    'population_description_length': [800],\n",
    "    'supporting_url_count': [12]\n",
    "})\n",
    "\n",
    "# Fill missing features with defaults\n",
    "for feature in predictor.feature_names:\n",
    "    if feature not in new_trial.columns:\n",
    "        new_trial[feature] = 0\n",
    "\n",
    "# Make prediction\n",
    "probability = predictor.predict_proba(new_trial)[0, 1]\n",
    "prediction = predictor.predict(new_trial, use_optimal_threshold=True)[0]\n",
    "\n",
    "print(f\"Success Probability: {probability:.1%}\")\n",
    "print(f\"Prediction: {'Success' if prediction else 'Failure'}\")"
   ]
  },
  {
   "cell_type": "markdown",
   "metadata": {},
   "source": [
    "## 4. Batch Predictions"
   ]
  },
  {
   "cell_type": "code",
   "execution_count": null,
   "metadata": {},
   "outputs": [],
   "source": [
    "# Make predictions on the test set\n",
    "from sklearn.model_selection import train_test_split\n",
    "\n",
    "# Split data\n",
    "X_train, X_test, y_train, y_test = train_test_split(\n",
    "    X, y, test_size=0.2, random_state=42, stratify=y\n",
    ")\n",
    "\n",
    "# Get predictions\n",
    "test_proba = predictor.predict_proba(X_test)[:, 1]\n",
    "test_pred = predictor.predict(X_test, use_optimal_threshold=True)\n",
    "\n",
    "# Create results dataframe\n",
    "results = pd.DataFrame({\n",
    "    'actual': y_test,\n",
    "    'probability': test_proba,\n",
    "    'prediction': test_pred\n",
    "})\n",
    "\n",
    "# Show some examples\n",
    "print(\"Sample Predictions:\")\n",
    "print(results.head(10))"
   ]
  },
  {
   "cell_type": "markdown",
   "metadata": {},
   "source": [
    "## 5. Analyze Prediction Distribution"
   ]
  },
  {
   "cell_type": "code",
   "execution_count": null,
   "metadata": {},
   "outputs": [],
   "source": [
    "# Plot prediction distribution\n",
    "plt.figure(figsize=(12, 5))\n",
    "\n",
    "plt.subplot(1, 2, 1)\n",
    "plt.hist(results[results['actual'] == 0]['probability'], bins=30, alpha=0.7, label='Failed Trials', color='red')\n",
    "plt.hist(results[results['actual'] == 1]['probability'], bins=30, alpha=0.7, label='Successful Trials', color='green')\n",
    "plt.axvline(predictor.optimal_threshold, color='black', linestyle='--', label=f'Threshold ({predictor.optimal_threshold:.3f})')\n",
    "plt.xlabel('Predicted Probability')\n",
    "plt.ylabel('Count')\n",
    "plt.title('Distribution of Predicted Probabilities')\n",
    "plt.legend()\n",
    "\n",
    "plt.subplot(1, 2, 2)\n",
    "confusion_matrix = pd.crosstab(results['actual'], results['prediction'], \n",
    "                              rownames=['Actual'], colnames=['Predicted'])\n",
    "sns.heatmap(confusion_matrix, annot=True, fmt='d', cmap='Blues')\n",
    "plt.title('Confusion Matrix')\n",
    "\n",
    "plt.tight_layout()\n",
    "plt.show()"
   ]
  },
  {
   "cell_type": "markdown",
   "metadata": {},
   "source": [
    "## 6. Get Recommendations"
   ]
  },
  {
   "cell_type": "code",
   "execution_count": null,
   "metadata": {},
   "outputs": [],
   "source": [
    "# Display recommendations\n",
    "print(\"Recommendations for Maximizing ALS Trial Success:\")\n",
    "print(\"=\" * 60)\n",
    "\n",
    "for rec in predictor.get_recommendations():\n",
    "    print(f\"\\n{rec}\")"
   ]
  },
  {
   "cell_type": "markdown",
   "metadata": {},
   "source": [
    "## 7. Save Model for Future Use"
   ]
  },
  {
   "cell_type": "code",
   "execution_count": null,
   "metadata": {},
   "outputs": [],
   "source": [
    "# Save the trained model\n",
    "predictor.save_model('als_trial_success_model.pkl')\n",
    "\n",
    "# Later, you can load it:\n",
    "# new_predictor = ALSTrialSuccessPredictor()\n",
    "# new_predictor.load_model('als_trial_success_model.pkl')"
   ]
  }
 ],
 "metadata": {
  "kernelspec": {
   "display_name": "Python 3",
   "language": "python",
   "name": "python3"
  },
  "language_info": {
   "codemirror_mode": {
    "name": "ipython",
    "version": 3
   },
   "file_extension": ".py",
   "mimetype": "text/x-python",
   "name": "python",
   "nbconvert_exporter": "python",
   "pygments_lexer": "ipython3",
   "version": "3.8.0"
  }
 },
 "nbformat": 4,
 "nbformat_minor": 4
}